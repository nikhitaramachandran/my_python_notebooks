{
 "cells": [
  {
   "cell_type": "markdown",
   "id": "dc504a2b",
   "metadata": {},
   "source": [
    "# String Concatenation\n",
    "\n",
    "Concatenating string =  add one string to the end of another. \n",
    "\n",
    "**Note : you cannot concatenate a string and a number using the addition operator.**"
   ]
  },
  {
   "cell_type": "code",
   "execution_count": 1,
   "id": "1e1a6929",
   "metadata": {},
   "outputs": [
    {
     "name": "stdout",
     "output_type": "stream",
     "text": [
      "Nikhita Ramachandran\n"
     ]
    }
   ],
   "source": [
    "first_name  = 'Nikhita'\n",
    "last_name = 'Ramachandran'\n",
    "full_name = first_name + \" \" + last_name\n",
    "print(full_name)"
   ]
  },
  {
   "cell_type": "markdown",
   "id": "98d2bd45",
   "metadata": {},
   "source": [
    "# Formating strings\n",
    "\n",
    "String formating allows us to write an entire string and inject the variables we want to use in the proper locations.\n",
    "\n",
    "**.format()**\n",
    "\n",
    "The format() method takes the passed arguments, formats them, and places them in the string where the placeholders {} are:"
   ]
  },
  {
   "cell_type": "code",
   "execution_count": 2,
   "id": "6ffa95e0",
   "metadata": {},
   "outputs": [
    {
     "name": "stdout",
     "output_type": "stream",
     "text": [
      "My first name is Nikhita, My last name is Ramachandran\n"
     ]
    }
   ],
   "source": [
    "print(\"My first name is {}, My last name is {}\".format(first_name,last_name))"
   ]
  },
  {
   "cell_type": "markdown",
   "id": "d16128be",
   "metadata": {},
   "source": [
    "# f Strings (Python 3.6 or above required)\n",
    "\n",
    "With the concept of f strings , by putting the letter “f” in front of a string, you’re able to inject a variable into a string directly in line. \n"
   ]
  },
  {
   "cell_type": "code",
   "execution_count": 3,
   "id": "76a675f5",
   "metadata": {},
   "outputs": [
    {
     "name": "stdout",
     "output_type": "stream",
     "text": [
      "My first name is Nikhita and my last name is Ramachandran\n"
     ]
    }
   ],
   "source": [
    "print(f\"My first name is {first_name} and my last name is {last_name}\")"
   ]
  },
  {
   "cell_type": "markdown",
   "id": "87694394",
   "metadata": {},
   "source": [
    "# String Index\n",
    "\n",
    "When a computer saves a string into memory, each character within the string is assigned what we call an “index.” An index is essentially a location in memory. "
   ]
  },
  {
   "cell_type": "code",
   "execution_count": 4,
   "id": "5dd04142",
   "metadata": {},
   "outputs": [
    {
     "name": "stdout",
     "output_type": "stream",
     "text": [
      "a\n",
      "n\n",
      "i\n"
     ]
    }
   ],
   "source": [
    "word = \"animal\"\n",
    "\n",
    "print(word[0])\n",
    "\n",
    "print(word[1])\n",
    "\n",
    "print(word[2])"
   ]
  },
  {
   "cell_type": "markdown",
   "id": "e2e2d4e7",
   "metadata": {},
   "source": [
    "Be very careful when working with indexes. An index is a specific location in memory. If you try to access a location that is out of range, you will crash your program because it’s trying to access a place in memory that does not exist."
   ]
  },
  {
   "cell_type": "code",
   "execution_count": 5,
   "id": "9e50c3b7",
   "metadata": {},
   "outputs": [
    {
     "ename": "IndexError",
     "evalue": "string index out of range",
     "output_type": "error",
     "traceback": [
      "\u001b[1;31m---------------------------------------------------------------------------\u001b[0m",
      "\u001b[1;31mIndexError\u001b[0m                                Traceback (most recent call last)",
      "Cell \u001b[1;32mIn[5], line 2\u001b[0m\n\u001b[0;32m      1\u001b[0m word2 \u001b[38;5;241m=\u001b[39m \u001b[38;5;124m'\u001b[39m\u001b[38;5;124mHello\u001b[39m\u001b[38;5;124m'\u001b[39m\n\u001b[1;32m----> 2\u001b[0m \u001b[38;5;28mprint\u001b[39m(\u001b[43mword2\u001b[49m\u001b[43m[\u001b[49m\u001b[38;5;241;43m5\u001b[39;49m\u001b[43m]\u001b[49m)\n",
      "\u001b[1;31mIndexError\u001b[0m: string index out of range"
     ]
    }
   ],
   "source": [
    "word2 = 'Hello'\n",
    "print(word2[5])"
   ]
  },
  {
   "cell_type": "markdown",
   "id": "36886ff0",
   "metadata": {},
   "source": [
    "# String slicing\n",
    "\n",
    "Slicing is essentially when you only want a piece of the variable, such that if I only wanted “He” from the word “Hello”, we would write the following:"
   ]
  },
  {
   "cell_type": "code",
   "execution_count": 6,
   "id": "1e04f53f",
   "metadata": {},
   "outputs": [
    {
     "name": "stdout",
     "output_type": "stream",
     "text": [
      "He\n"
     ]
    }
   ],
   "source": [
    "print(word2[0:2])"
   ]
  },
  {
   "cell_type": "markdown",
   "id": "a6d4aa58",
   "metadata": {},
   "source": [
    "# String manipulation\n",
    "\n",
    "String manipulation just means that we want to alter what the current string is. Python has plenty of methods that we can use to alter string data types."
   ]
  },
  {
   "cell_type": "markdown",
   "id": "1a764952",
   "metadata": {},
   "source": [
    "**1.  .title( )** : This method capitalizes all first letters in each word of a string. "
   ]
  },
  {
   "cell_type": "code",
   "execution_count": 7,
   "id": "052e931b",
   "metadata": {},
   "outputs": [
    {
     "name": "stdout",
     "output_type": "stream",
     "text": [
      "Research And Development Of Electronics In Furniture Industry\n"
     ]
    }
   ],
   "source": [
    "project = \"Research and development of electronics in furniture industry\"\n",
    "print(project.title())"
   ]
  },
  {
   "cell_type": "markdown",
   "id": "27c77978",
   "metadata": {},
   "source": [
    "**2.  .upper()** : This method converts a string to uppercase."
   ]
  },
  {
   "cell_type": "code",
   "execution_count": 8,
   "id": "77939e0a",
   "metadata": {},
   "outputs": [
    {
     "name": "stdout",
     "output_type": "stream",
     "text": [
      "RESEARCH AND DEVELOPMENT OF ELECTRONICS IN FURNITURE INDUSTRY\n"
     ]
    }
   ],
   "source": [
    "print(project.upper())"
   ]
  },
  {
   "cell_type": "markdown",
   "id": "d5cdb508",
   "metadata": {},
   "source": [
    "**3.  .lower()** : This is the opposite of the .upper(), it converts a given string to lowercase."
   ]
  },
  {
   "cell_type": "code",
   "execution_count": 9,
   "id": "8c4b2be2",
   "metadata": {},
   "outputs": [
    {
     "name": "stdout",
     "output_type": "stream",
     "text": [
      "research and development of electronics in furniture industry\n"
     ]
    }
   ],
   "source": [
    "print(project.lower())"
   ]
  },
  {
   "cell_type": "markdown",
   "id": "14fa8f70",
   "metadata": {},
   "source": [
    "**4. .replace()** : The replace method works like a find and replace tool. It takes in two values within its parenthesis, one that it searches for and the other that it replaces the searched value with"
   ]
  },
  {
   "cell_type": "code",
   "execution_count": 10,
   "id": "c640af20",
   "metadata": {},
   "outputs": [
    {
     "name": "stdout",
     "output_type": "stream",
     "text": [
      "Research & development of electronics in furniture industry\n"
     ]
    }
   ],
   "source": [
    "print(project.replace('and','&'))"
   ]
  },
  {
   "cell_type": "markdown",
   "id": "07b53d3b",
   "metadata": {},
   "source": [
    "**5.  .find( )** : This method returns the index of the word in the sentence."
   ]
  },
  {
   "cell_type": "code",
   "execution_count": 11,
   "id": "30f5b585",
   "metadata": {},
   "outputs": [
    {
     "name": "stdout",
     "output_type": "stream",
     "text": [
      "2\n"
     ]
    }
   ],
   "source": [
    "print(project.find('search'))"
   ]
  }
 ],
 "metadata": {
  "kernelspec": {
   "display_name": "Python 3 (ipykernel)",
   "language": "python",
   "name": "python3"
  },
  "language_info": {
   "codemirror_mode": {
    "name": "ipython",
    "version": 3
   },
   "file_extension": ".py",
   "mimetype": "text/x-python",
   "name": "python",
   "nbconvert_exporter": "python",
   "pygments_lexer": "ipython3",
   "version": "3.9.16"
  }
 },
 "nbformat": 4,
 "nbformat_minor": 5
}
